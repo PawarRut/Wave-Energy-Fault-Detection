{
 "cells": [
  {
   "cell_type": "code",
   "execution_count": 2,
   "id": "be7bf80b-f0d2-45c2-ba88-94115627296d",
   "metadata": {},
   "outputs": [],
   "source": [
    "# 1. Import libraries\n",
    "import pandas as pd\n",
    "import numpy as np\n",
    "import matplotlib.pyplot as plt\n",
    "import pickle"
   ]
  },
  {
   "cell_type": "code",
   "execution_count": 3,
   "id": "449f81ea-0656-4a81-bc45-c8073d2d1f5b",
   "metadata": {},
   "outputs": [],
   "source": [
    "from sklearn.model_selection import train_test_split\n",
    "from sklearn.preprocessing import StandardScaler\n",
    "from sklearn.ensemble import RandomForestClassifier\n",
    "from sklearn.metrics import accuracy_score, precision_score, recall_score, confusion_matrix, ConfusionMatrixDisplay"
   ]
  },
  {
   "cell_type": "code",
   "execution_count": 4,
   "id": "64e5b9db-68fa-4e73-8b3c-876223b7bd6b",
   "metadata": {},
   "outputs": [],
   "source": [
    "# 2. Load and clean data\n",
    "df = pd.read_csv(\"C:\\\\Users\\\\rutuj\\\\OneDrive\\\\Desktop\\\\student\\\\wave_energy_converter_dataset.csv\")"
   ]
  },
  {
   "cell_type": "code",
   "execution_count": 5,
   "id": "caa37923-f8f3-4252-97ea-29bb48a4d086",
   "metadata": {},
   "outputs": [
    {
     "name": "stdout",
     "output_type": "stream",
     "text": [
      "['significant_wave_height', 'wave_period', 'wave_direction', 'sea_state', 'device_pitch', 'device_heave', 'power_output', 'efficiency', 'mooring_tension', 'fault_detected']\n"
     ]
    }
   ],
   "source": [
    "print(df.columns.tolist())"
   ]
  },
  {
   "cell_type": "code",
   "execution_count": 6,
   "id": "d9e4c17f-c348-45ca-bfa7-2714c9f2036a",
   "metadata": {},
   "outputs": [
    {
     "name": "stdout",
     "output_type": "stream",
     "text": [
      "<class 'pandas.core.frame.DataFrame'>\n",
      "RangeIndex: 2000 entries, 0 to 1999\n",
      "Data columns (total 10 columns):\n",
      " #   Column                   Non-Null Count  Dtype  \n",
      "---  ------                   --------------  -----  \n",
      " 0   significant_wave_height  2000 non-null   float64\n",
      " 1   wave_period              2000 non-null   float64\n",
      " 2   wave_direction           2000 non-null   float64\n",
      " 3   sea_state                2000 non-null   int64  \n",
      " 4   device_pitch             2000 non-null   float64\n",
      " 5   device_heave             2000 non-null   float64\n",
      " 6   power_output             2000 non-null   float64\n",
      " 7   efficiency               2000 non-null   float64\n",
      " 8   mooring_tension          2000 non-null   float64\n",
      " 9   fault_detected           2000 non-null   int64  \n",
      "dtypes: float64(8), int64(2)\n",
      "memory usage: 156.4 KB\n",
      "None\n"
     ]
    }
   ],
   "source": [
    "# Show basic info\n",
    "print(df.info())\n"
   ]
  },
  {
   "cell_type": "code",
   "execution_count": 7,
   "id": "ac944aa6-e4e1-48fa-9167-913a13d67c4c",
   "metadata": {},
   "outputs": [
    {
     "name": "stdout",
     "output_type": "stream",
     "text": [
      "Index(['significant_wave_height', 'wave_period', 'wave_direction', 'sea_state',\n",
      "       'device_pitch', 'device_heave', 'power_output', 'efficiency',\n",
      "       'mooring_tension', 'fault_detected'],\n",
      "      dtype='object')\n"
     ]
    }
   ],
   "source": [
    "# Show column names\n",
    "print(df.columns)"
   ]
  },
  {
   "cell_type": "code",
   "execution_count": 8,
   "id": "f33c4bfe-5a81-43b6-9f2c-8264f0d97545",
   "metadata": {},
   "outputs": [
    {
     "name": "stdout",
     "output_type": "stream",
     "text": [
      "       significant_wave_height  wave_period  wave_direction    sea_state  \\\n",
      "count              2000.000000  2000.000000     2000.000000  2000.000000   \n",
      "mean                  2.743825     7.467500      178.663000     1.493500   \n",
      "std                   1.314980     2.597245      103.662676     1.115607   \n",
      "min                   0.510000     3.000000        0.000000     0.000000   \n",
      "25%                   1.570000     5.257500       89.000000     1.000000   \n",
      "50%                   2.780000     7.435000      177.000000     1.000000   \n",
      "75%                   3.880000     9.740000      266.250000     2.000000   \n",
      "max                   5.000000    12.000000      360.000000     3.000000   \n",
      "\n",
      "       device_pitch  device_heave  power_output   efficiency  mooring_tension  \\\n",
      "count   2000.000000   2000.000000   2000.000000  2000.000000      2000.000000   \n",
      "mean       4.844335      1.002470    175.333220    49.955410        35.077935   \n",
      "std        2.835127      0.568573     72.994764    17.509034        14.475642   \n",
      "min        0.000000      0.000000     50.040000    20.080000        10.010000   \n",
      "25%        2.420000      0.510000    112.657500    34.497500        22.597500   \n",
      "50%        4.820000      1.000000    172.710000    49.540000        35.545000   \n",
      "75%        7.152500      1.492500    240.295000    65.722500        47.402500   \n",
      "max        9.990000      2.000000    299.830000    79.990000        60.000000   \n",
      "\n",
      "       fault_detected  \n",
      "count     2000.000000  \n",
      "mean         0.099500  \n",
      "std          0.299407  \n",
      "min          0.000000  \n",
      "25%          0.000000  \n",
      "50%          0.000000  \n",
      "75%          0.000000  \n",
      "max          1.000000  \n"
     ]
    }
   ],
   "source": [
    "# Show summary stats\n",
    "print(df.describe())\n"
   ]
  },
  {
   "cell_type": "code",
   "execution_count": 9,
   "id": "e69f3628-0fc2-4b15-bb9a-c7551679fb3b",
   "metadata": {},
   "outputs": [],
   "source": [
    "#deleting duplicate columns and rows\n",
    "df.fillna(df.mean(numeric_only=True), inplace=True)\n",
    "df.drop_duplicates(inplace=True)"
   ]
  },
  {
   "cell_type": "code",
   "execution_count": 10,
   "id": "560a7e32-669e-4a33-84ac-678b37b73f8f",
   "metadata": {},
   "outputs": [],
   "source": [
    "# 3. Preprocessing\n",
    "X = df.drop('fault_detected', axis=1)\n",
    "y = df['fault_detected']\n",
    "scaler = StandardScaler()\n",
    "X_scaled = scaler.fit_transform(X)"
   ]
  },
  {
   "cell_type": "code",
   "execution_count": 11,
   "id": "95e34336-7d28-4846-80c0-f28032e51f42",
   "metadata": {},
   "outputs": [],
   "source": [
    "# 4. Split data\n",
    "X_train, X_test, y_train, y_test = train_test_split(X_scaled, y, test_size=0.2, random_state=42)\n"
   ]
  },
  {
   "cell_type": "code",
   "execution_count": 12,
   "id": "4566372b-9358-4baa-b88d-0891a72141a5",
   "metadata": {},
   "outputs": [],
   "source": [
    "# 5. Train Random Forest\n",
    "model = RandomForestClassifier(random_state=42)\n",
    "model.fit(X_train, y_train)\n",
    "y_pred = model.predict(X_test)"
   ]
  },
  {
   "cell_type": "code",
   "execution_count": 13,
   "id": "9e26f8ef-e0ec-42db-9a04-79047fff35af",
   "metadata": {},
   "outputs": [
    {
     "name": "stdout",
     "output_type": "stream",
     "text": [
      "Accuracy: 0.8975\n",
      "Precision: 0.0\n",
      "Recall: 0.0\n"
     ]
    },
    {
     "data": {
      "image/png": "[encoded data removed]",
      "text/plain": [
       "<Figure size 640x480 with 2 Axes>"
      ]
     },
     "metadata": {},
     "output_type": "display_data"
    }
   ],
   "source": [
    "# 6. Evaluate model\n",
    "print(\"Accuracy:\", accuracy_score(y_test, y_pred))\n",
    "print(\"Precision:\", precision_score(y_test, y_pred))\n",
    "print(\"Recall:\", recall_score(y_test, y_pred))\n",
    "ConfusionMatrixDisplay.from_predictions(y_test, y_pred)\n",
    "plt.title(\"Confusion Matrix\")\n",
    "plt.show()"
   ]
  },
  {
   "cell_type": "code",
   "execution_count": 14,
   "id": "c86ecc45-be58-4e28-a977-44c8fa4d1109",
   "metadata": {},
   "outputs": [
    {
     "data": {
      "image/png": "[encoded data removed]",
      "text/plain": [
       "<Figure size 640x480 with 1 Axes>"
      ]
     },
     "metadata": {},
     "output_type": "display_data"
    }
   ],
   "source": [
    "# 7. Prediction Graph\n",
    "plt.scatter(range(len(y_test)), y_test, color='blue', label='Actual')\n",
    "plt.scatter(range(len(y_pred)), y_pred, color='red', marker='x', label='Predicted')\n",
    "plt.title('Actual vs Predicted')\n",
    "plt.xlabel('Sample Index')\n",
    "plt.ylabel('Fault Detected')\n",
    "plt.legend()\n",
    "plt.show()"
   ]
  },
  {
   "cell_type": "code",
   "execution_count": 18,
   "id": "b4e92e67-98a7-47aa-a6ab-c7f55f200661",
   "metadata": {},
   "outputs": [],
   "source": [
    "# 8. Save model and scaler\n",
    "with open('best_model.pkl', 'wb') as f:\n",
    "    pickle.dump(model, f)\n",
    "\n",
    "with open('scaler.pkl', 'wb') as f:\n",
    "    pickle.dump(scaler, f)"
   ]
  },
  {
   "cell_type": "code",
   "execution_count": null,
   "id": "b86227c4-9b57-43d8-b5d5-721f572469e5",
   "metadata": {},
   "outputs": [],
   "source": []
  }
 ],
 "metadata": {
  "kernelspec": {
   "display_name": "Python 3 (ipykernel)",
   "language": "python",
   "name": "python3"
  },
  "language_info": {
   "codemirror_mode": {
    "name": "ipython",
    "version": 3
   },
   "file_extension": ".py",
   "mimetype": "text/x-python",
   "name": "python",
   "nbconvert_exporter": "python",
   "pygments_lexer": "ipython3",
   "version": "3.13.2"
  }
 },
 "nbformat": 4,
 "nbformat_minor": 5
}
